{
 "cells": [
  {
   "cell_type": "markdown",
   "metadata": {},
   "source": [
    "## Trabalho Prático 2 - Machine Learning\n",
    "\n",
    "### Objetivo\n",
    "\n",
    "O objetivo deste trabalho é implementar e avaliar o algoritmo Naive Bayes aplicado a diferentes\n",
    "problemas de classificação. Adicionalmente o algoritmo K-Médias deve ser utilizado para clustering.\n",
    "\n",
    "\n",
    "\n",
    "\n",
    "\n",
    "\n",
    "\n"
   ]
  },
  {
   "cell_type": "markdown",
   "metadata": {},
   "source": [
    "### 1. Classificação - Base de Dados Iris\n",
    "\n",
    "1.1. Conforme visto nas primeiras aulas, busque e carregue o Iris Dataset:\n",
    "  •4 Features: Sepal Length, Sepal Width, Petal Length, Petal Width\n",
    "  •3 Classes: Versicolor, Setosa e Virginica\n",
    "\n",
    "1.2. Com objetivo de visualizar os dados, plote os gráficos a seguir:\n",
    "  •As 6 combinações em 2D de dois dos quatro atributos do Iris dataset.\n",
    "  •As 4 combinações em 3D de três dos quatro atributos do Iris dataset.\n",
    "  1.3. Implemente o algoritmo Gaussian Naive Bayes e aplique à base de dados.\n",
    "  •Plote a superfície de decisão obtida pelo algoritmo.\n",
    "\n",
    "1.4. Implemente o algoritmo Regressão Logística (2 versões, com e sem feature engineering)\n",
    "e aplique à base de dados.\n",
    "  •Encontre o melhor valor para o parâmetro αe para o grau do polinômio na versão\n",
    "  com feature engineering.\n",
    "  •Plote a superfície de decisão obtida pelo algoritmo.\n",
    "\n",
    "1.5. Compare a eficácia dos classificadores com relação à acurácia, utilizando a divisão dos\n",
    "dados (Treinamento, Validação e Teste). Execute cada experimento 10 vezes e compare\n",
    "as médias dos resultados.\n",
    "\n",
    "1.6. Retire os rótulos da base de dados e Implemente o algoritmo K-Médias para encontrar\n",
    "agrupamentos nos dados. Utilizando diferentes valores de K, teste diferentes métricas de\n",
    "distância (pelo menos 3) e avalie os clusters obtidos.\n",
    "•Plote os clusters e também os centróides finais obtidos.\n",
    "•Compare visualmente os clusters com as classes reais do problema."
   ]
  },
  {
   "cell_type": "markdown",
   "metadata": {},
   "source": [
    "### 2. Classificação - Base de Dados Bi-dimensional\n",
    "\n",
    "Com o objetivo de fixar o conteúdo, você\n",
    "deverá implementar o algoritmo Gaussian Naive Bayes, e aplicar à base de dados para predição\n",
    "de aprovação de um estudante com base nos resultados de 2 avaliações realizadas por ele.\n",
    "\n",
    "A base de dados(arquivo ex2data1.txt utilizada no TP1) contem dados históricos referentes a\n",
    "avaliações passadas, onde as colunas da base são: Avaliação 1, Avaliação 2 e resultado(aprovado\n",
    "ou reprovado). Compare com os resultados obtidos no TP1. Os resultados são melhores do que\n",
    "a regressão logística implementada no TP1?\n",
    "\n",
    "Após implementar o algoritmo, mostre a superfície de decisão gerada por ele e compare os\n",
    "resultados(Acurácia média e tempo computacional para o treinamento e o teste) utilizando\n",
    "validação cruzada."
   ]
  },
  {
   "cell_type": "markdown",
   "metadata": {},
   "source": [
    "### 3. Classificação - Base Câncer de Mama\n",
    "\n",
    "O objetivo agora é implementar o algoritmo Gaus-\n",
    "sian Naive Bayes e Regressão Logística para resolução do problema de detecção de pacientes\n",
    "com câncer de mama. Os algoritmos deverão ser comparados ao final, onde você deverá apon-\n",
    "tar os prós e contras dos algoritmos com relação ao desempenho obtido. Não se esqueça de\n",
    "normalizar e separar os dados(treinamento, validação e teste) para efetuar uma avaliação\n",
    "correta.\n",
    "\n",
    "A base de dados a ser utilizada nesta questão é conhecida como Wisconsin Diagnostic Breast\n",
    "Cancer - WDBC e foi produzida pelo Dr. William H. Wolberg, pesquisador do departamento\n",
    "de Cirurgia Geral da Universidade de Wisconsin. Ela está disponível publicamente no UCI\n",
    "Machine Learning Repository (<https://archive.ics.uci.edu/static/public/17/breast+cancer+\n",
    "wisconsin+diagnostic.zip>). Esta base de dados é composta por 569 pacientes (357 saudáveis\n",
    "e 212 com câncer) e 32 campos (dos quais 30 atributos são úteis) no total, sendo que o primeiro\n",
    "pode ser descartado, por se tratar do identificador do paciente e o último campo é o rótulo da\n",
    "classe (0 - Saudável, 1 - com Câncer)."
   ]
  }
 ],
 "metadata": {
  "kernelspec": {
   "display_name": "venv",
   "language": "python",
   "name": "python3"
  },
  "language_info": {
   "codemirror_mode": {
    "name": "ipython",
    "version": 3
   },
   "file_extension": ".py",
   "mimetype": "text/x-python",
   "name": "python",
   "nbconvert_exporter": "python",
   "pygments_lexer": "ipython3",
   "version": "3.11.6"
  }
 },
 "nbformat": 4,
 "nbformat_minor": 2
}
